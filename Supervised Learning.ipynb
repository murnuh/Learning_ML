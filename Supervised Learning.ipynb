{
 "cells": [
  {
   "cell_type": "code",
   "execution_count": 7,
   "metadata": {},
   "outputs": [
    {
     "name": "stdout",
     "output_type": "stream",
     "text": [
      "Coefficients: \n",
      " [938.23786125]\n",
      "Mean squared error: 3955.02\n",
      "Variance score: 0.34\n"
     ]
    },
    {
     "data": {
      "text/plain": [
       "([], [])"
      ]
     },
     "execution_count": 7,
     "metadata": {},
     "output_type": "execute_result"
    },
    {
     "data": {
      "image/png": "[encoded data removed]",
      "text/plain": [
       "<Figure size 432x288 with 1 Axes>"
      ]
     },
     "metadata": {},
     "output_type": "display_data"
    }
   ],
   "source": [
    "import matplotlib.pyplot as plt\n",
    "import numpy as np\n",
    "from sklearn import datasets, linear_model\n",
    "from sklearn.metrics import mean_squared_error, r2_score\n",
    "\n",
    "#Load the diabetes dataset\n",
    "diabetes = datasets.load_diabetes()\n",
    "\n",
    "#Use only one feature\n",
    "diabetes_X = diabetes.data[:,np.newaxis,2]\n",
    "\n",
    "#Split the data into training/testing sets\n",
    "diabetes_X_train = diabetes_X[:-20]\n",
    "diabetes_X_test = diabetes_X[-20:]\n",
    "\n",
    "#Split the targets into training/testing sets\n",
    "diabetes_Y_train = diabetes.target[:-20]\n",
    "diabetes_Y_test = diabetes.target[-20:]\n",
    "\n",
    "#Create linear regression object\n",
    "regr = linear_model.LinearRegression()\n",
    "\n",
    "#Train the model using the training sets\n",
    "regr.fit(diabetes_X_train, diabetes_Y_train)\n",
    "\n",
    "#Make prediction using the testing set\n",
    "diabetes_Y_pred = regr.predict(diabetes_X_train)\n",
    "\n",
    "#The coefficients\n",
    "print('Coefficients: \\n', regr.coef_)\n",
    "#The mean squared error\n",
    "print(\"Mean squared error: %.2f\"% mean_squared_error(diabetes_Y_train, diabetes_Y_pred))\n",
    "#Explained variance score: 1 is perfect prediction\n",
    "print('Variance score: %.2f' % r2_score(diabetes_Y_train,diabetes_Y_pred))\n",
    "\n",
    "#Plot outputs\n",
    "plt.scatter(diabetes_X_train, diabetes_Y_train, color='black')\n",
    "plt.plot(diabetes_X_train, diabetes_Y_pred, color='blue', linewidth=3)\n",
    "\n",
    "plt.xticks(())\n",
    "plt.yticks(())"
   ]
  },
  {
   "cell_type": "code",
   "execution_count": null,
   "metadata": {},
   "outputs": [],
   "source": []
  }
 ],
 "metadata": {
  "kernelspec": {
   "display_name": "Python 3",
   "language": "python",
   "name": "python3"
  },
  "language_info": {
   "codemirror_mode": {
    "name": "ipython",
    "version": 3
   },
   "file_extension": ".py",
   "mimetype": "text/x-python",
   "name": "python",
   "nbconvert_exporter": "python",
   "pygments_lexer": "ipython3",
   "version": "3.8.5"
  }
 },
 "nbformat": 4,
 "nbformat_minor": 4
}
